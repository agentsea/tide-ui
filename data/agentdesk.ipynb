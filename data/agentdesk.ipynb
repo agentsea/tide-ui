{
 "cells": [
  {
   "cell_type": "code",
   "execution_count": 1,
   "metadata": {},
   "outputs": [],
   "source": [
    "from agentdesk.device_v1 import Desktop\n"
   ]
  },
  {
   "cell_type": "code",
   "execution_count": 2,
   "metadata": {},
   "outputs": [
    {
     "name": "stdout",
     "output_type": "stream",
     "text": [
      "Pulling Docker image 'us-docker.pkg.dev/agentsea-dev/agentd/desktop-webtop:latest'...\n",
      "Status update for latest: Pulling from agentsea-dev/agentd/desktop-webtop\n",
      "\n",
      "running image us-docker.pkg.dev/agentsea-dev/agentd/desktop-webtop:latest\n",
      "Network 'agentsea' already exists.\n",
      "container id 'bfc818add90e496e88fb64f3f27a33eece6e7f4b0344157c66370392faa278f0'\n",
      "waiting for agent to be ready...\n",
      "checking health at http://localhost:8000/health\n",
      "waiting for agent to be ready...\n",
      "checking health at http://localhost:8000/health\n",
      "waiting for agent to be ready...\n",
      "checking health at http://localhost:8000/health\n",
      "waiting for agent to be ready...\n",
      "checking health at http://localhost:8000/health\n",
      "waiting for agent to be ready...\n",
      "checking health at http://localhost:8000/health\n",
      "waiting for agent to be ready...\n",
      "checking health at http://localhost:8000/health\n",
      "response: <Response [200]>\n",
      "Health check passed for 'boring-shannon'\n",
      "instance doesn't require proxy\n",
      "connected to desktop via agentd\n"
     ]
    }
   ],
   "source": [
    "desktop = Desktop.docker()"
   ]
  },
  {
   "cell_type": "code",
   "execution_count": 5,
   "metadata": {},
   "outputs": [],
   "source": [
    "desktop.view(background=True)"
   ]
  },
  {
   "cell_type": "code",
   "execution_count": 6,
   "metadata": {},
   "outputs": [
    {
     "ename": "KeyboardInterrupt",
     "evalue": "",
     "output_type": "error",
     "traceback": [
      "\u001b[0;31m---------------------------------------------------------------------------\u001b[0m",
      "\u001b[0;31mKeyboardInterrupt\u001b[0m                         Traceback (most recent call last)",
      "Cell \u001b[0;32mIn[6], line 6\u001b[0m\n\u001b[1;32m      4\u001b[0m \u001b[38;5;28;01mimport\u001b[39;00m \u001b[38;5;21;01muuid\u001b[39;00m\n\u001b[1;32m      5\u001b[0m img[\u001b[38;5;241m0\u001b[39m]\u001b[38;5;241m.\u001b[39msave(\u001b[38;5;124mf\u001b[39m\u001b[38;5;124m\"\u001b[39m\u001b[38;5;124mscreenshot_\u001b[39m\u001b[38;5;132;01m{\u001b[39;00muuid\u001b[38;5;241m.\u001b[39muuid4()\u001b[38;5;132;01m}\u001b[39;00m\u001b[38;5;124m.png\u001b[39m\u001b[38;5;124m\"\u001b[39m)\n\u001b[0;32m----> 6\u001b[0m time\u001b[38;5;241m.\u001b[39msleep(\u001b[38;5;241m2\u001b[39m)\n",
      "\u001b[0;31mKeyboardInterrupt\u001b[0m: "
     ]
    }
   ],
   "source": [
    "import time\n",
    "while True:\n",
    "    img = desktop.take_screenshots()\n",
    "    import uuid\n",
    "    img[0].save(f\"screenshot_{uuid.uuid4()}.png\")\n",
    "    time.sleep(2)"
   ]
  },
  {
   "cell_type": "code",
   "execution_count": 7,
   "metadata": {},
   "outputs": [
    {
     "name": "stdout",
     "output_type": "stream",
     "text": [
      "Successfully deleted container: boring-shannon\n"
     ]
    }
   ],
   "source": [
    "desktop.delete()"
   ]
  },
  {
   "cell_type": "code",
   "execution_count": null,
   "metadata": {},
   "outputs": [],
   "source": []
  }
 ],
 "metadata": {
  "kernelspec": {
   "display_name": ".venv",
   "language": "python",
   "name": "python3"
  },
  "language_info": {
   "codemirror_mode": {
    "name": "ipython",
    "version": 3
   },
   "file_extension": ".py",
   "mimetype": "text/x-python",
   "name": "python",
   "nbconvert_exporter": "python",
   "pygments_lexer": "ipython3",
   "version": "3.11.9"
  }
 },
 "nbformat": 4,
 "nbformat_minor": 2
}
